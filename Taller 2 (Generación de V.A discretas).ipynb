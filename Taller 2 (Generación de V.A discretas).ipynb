{
 "cells": [
  {
   "cell_type": "code",
   "execution_count": 2,
   "metadata": {},
   "outputs": [],
   "source": [
    "'''\n",
    "Importación de librerías base\n",
    "'''\n",
    "\n",
    "import numpy as np\n",
    "import math"
   ]
  },
  {
   "cell_type": "code",
   "execution_count": 5,
   "metadata": {},
   "outputs": [
    {
     "name": "stdout",
     "output_type": "stream",
     "text": [
      "{1: 0.1, 2: 0.2, 3: 0.02, 4: 0.6, 5: 0.08}\n",
      "\n",
      "[0.1, 0.30000000000000004, 0.32000000000000006, 0.92, 1.0]\n",
      "\n",
      "X_4:  0.8806859810258322\n",
      "X_4:  0.6092280112237363\n",
      "X_4:  0.6696662128518142\n",
      "X_4:  0.8383336941685966\n",
      "X_4:  0.8271987822297062\n",
      "X_5:  0.9391427293744119\n",
      "X_4:  0.4025306213975145\n",
      "X_2:  0.17404681760180218\n",
      "X_4:  0.35002000120656307\n",
      "X_1:  0.051444102204867614\n",
      "X_2:  0.22594655216833415\n",
      "X_4:  0.45301308881863156\n",
      "X_1:  0.07354801961359114\n",
      "X_4:  0.8399157084330674\n",
      "X_4:  0.875588990509709\n",
      "X_4:  0.3683169197917897\n",
      "X_4:  0.5015216615814154\n",
      "X_4:  0.7196095894018756\n",
      "X_4:  0.9067681709619126\n",
      "X_4:  0.9004563941558258\n",
      "X_5:  0.9590834321348181\n",
      "X_1:  0.08248604095881817\n",
      "X_3:  0.3001303054932666\n",
      "X_4:  0.49159051653967434\n",
      "X_2:  0.10218430216344054\n"
     ]
    }
   ],
   "source": [
    "'''\n",
    "Implementar el método de la transformada inversa.\n",
    "'''\n",
    "\n",
    "n_va = 25 # Número de Variables Aleatorias\n",
    "p_n = 5 # Número de probabilidades\n",
    "values = [0.1, 0.2, 0.02, 0.6, 0.08]\n",
    "\n",
    "probabilities = {}\n",
    "for i in range(p_n):\n",
    "    key = i + 1\n",
    "    value = values[i]\n",
    "    probabilities[key] = value\n",
    "\n",
    "Fx = []\n",
    "cumulative_distribution = 0\n",
    "    \n",
    "print(probabilities)\n",
    "print()\n",
    "    \n",
    "for key, value in probabilities.items():\n",
    "    cumulative_distribution += value\n",
    "    Fx.append(cumulative_distribution)\n",
    "\n",
    "print(Fx)\n",
    "print()\n",
    "\n",
    "for x in range(n_va):\n",
    "    u = np.random.uniform(0,1)\n",
    "    c = 1\n",
    "    for i in Fx:\n",
    "        if(u < i):\n",
    "            key = list(probabilities.keys())[list(probabilities.values()).index(probabilities[c])]\n",
    "            print('X_'+str(key)+': ', u)\n",
    "            break\n",
    "        c += 1\n"
   ]
  },
  {
   "cell_type": "code",
   "execution_count": null,
   "metadata": {},
   "outputs": [],
   "source": [
    "'''\n",
    "Implementar el método para la generación de v.a. Poisson\n",
    "'''\n",
    "\n",
    "n_va = 25 # Número de Variables Aleatorias\n",
    "l = 5 #float(input(\"Valor de lambda: \"))\n",
    "\n",
    "for x in range(n_va):\n",
    "    u = np.random.uniform(0,1) \n",
    "    c = 0\n",
    "    p = math.e ** (-1 * l)\n",
    "    F = p\n",
    "    while(u >= F):\n",
    "        p = (l * p) / (c + 1)\n",
    "        F = F + p\n",
    "        c = c + 1\n",
    "    key = c\n",
    "    print('X_'+str(key)+': ', u)\n"
   ]
  },
  {
   "cell_type": "code",
   "execution_count": 67,
   "metadata": {},
   "outputs": [
    {
     "name": "stdout",
     "output_type": "stream",
     "text": [
      "X_11:  0.3485412352131473\n",
      "X_10:  0.22112164301149528\n",
      "X_12:  0.44799680722333723\n",
      "X_8:  0.040860398519129704\n",
      "X_14:  0.8538085014546721\n",
      "X_12:  0.47651759527335813\n",
      "X_13:  0.7109142523872791\n",
      "X_15:  0.9457076387402041\n",
      "X_11:  0.4036087764731793\n",
      "X_12:  0.4125580795804069\n",
      "X_16:  0.97265401704665\n",
      "X_14:  0.7724040616151543\n",
      "X_15:  0.9199048848840135\n",
      "X_14:  0.7957300123040688\n",
      "X_14:  0.8001406922533543\n",
      "X_11:  0.3864156782028171\n",
      "X_11:  0.36497915172206086\n",
      "X_15:  0.8776618394971143\n",
      "X_13:  0.7171544451751451\n",
      "X_12:  0.4922491228708521\n",
      "X_12:  0.5574739601154528\n",
      "X_14:  0.803744459394391\n",
      "X_13:  0.634608539945789\n",
      "X_12:  0.5125341204094132\n",
      "X_15:  0.9243220617947776\n"
     ]
    }
   ],
   "source": [
    "'''\n",
    "Implementar el método para la generación de v.a. Binomiales \n",
    "'''\n",
    "\n",
    "n_va = 25 # Número de Variables Aleatorias\n",
    "n_test = 20 # Número de ensayos a realizar\n",
    "success_probability = 0.6 # Probabilidad de que el ensayo sea exitoso\n",
    "\n",
    "for i in range(n_va):\n",
    "    u = np.random.uniform(0,1) \n",
    "    failure_probability = 1 - success_probability\n",
    "    c = success_probability / failure_probability\n",
    "    i = 0\n",
    "    failure_probability_pow = failure_probability ** n_test\n",
    "    F = failure_probability_pow\n",
    "\n",
    "    while(u >= F):\n",
    "        failure_probability_pow = (c * (n_test - i) / (i + 1)) * failure_probability_pow\n",
    "        F = F + failure_probability_pow\n",
    "        i = i + 1\n",
    "    key = i\n",
    "    print('X_'+str(key)+': ', u)"
   ]
  },
  {
   "cell_type": "code",
   "execution_count": null,
   "metadata": {},
   "outputs": [],
   "source": [
    "'''\n",
    "Implementar la técnica de aceptación y rechazo para la generación de v.a. Discretas \n",
    "'''\n",
    "\n"
   ]
  },
  {
   "cell_type": "code",
   "execution_count": 74,
   "metadata": {},
   "outputs": [
    {
     "name": "stdout",
     "output_type": "stream",
     "text": [
      "X:  6\n",
      "X:  6\n",
      "X:  9\n",
      "X:  9\n",
      "X:  8\n",
      "X:  9\n",
      "X:  5\n",
      "X:  0\n",
      "X:  8\n",
      "X:  1\n",
      "X:  6\n",
      "X:  9\n",
      "X:  2\n",
      "X:  9\n",
      "X:  9\n",
      "X:  7\n",
      "X:  9\n",
      "X:  9\n",
      "X:  3\n",
      "X:  1\n",
      "X:  5\n",
      "X:  0\n",
      "X:  10\n",
      "X:  3\n",
      "X:  1\n"
     ]
    }
   ],
   "source": [
    "'''\n",
    "Implementar el método de composición para la generación de v.a. Discretas\n",
    "'''\n",
    "\n",
    "n_va = 25 # Número de Variables Aleatorias\n",
    "success_probability = 0.5 # Probabilidad de que el ensayo sea exitoso\n",
    "\n",
    "for i in range(n_va):\n",
    "    u1 = np.random.uniform(0,1)\n",
    "    u2 = np.random.uniform(0,1) \n",
    "    if(u1 < success_probability):\n",
    "        print(\"X: \", int(10 * u2))\n",
    "    else:\n",
    "        print(\"X: \", int(5 * u2) + 6)"
   ]
  },
  {
   "cell_type": "code",
   "execution_count": 75,
   "metadata": {},
   "outputs": [
    {
     "data": {
      "text/plain": [
       "'\\nEjercicio 1\\n\\nEscriba un programa para generar 𝑛\\nvalores a partir de la función de masa de probabilidad 𝑝1=13, 𝑝2=23\\n\\n    (a) Sea 𝑛=100, ejecute el programa y determine la proporción de valores que sean iguales a 1.\\n    (b) Repita (a) con 𝑛=1000.\\n    (c) Repita (a) con 𝑛=10000.\\n    \\n'"
      ]
     },
     "execution_count": 75,
     "metadata": {},
     "output_type": "execute_result"
    }
   ],
   "source": [
    "'''\n",
    "Ejercicio 1\n",
    "\n",
    "Escriba un programa para generar 𝑛\n",
    "valores a partir de la función de masa de probabilidad 𝑝1=13, 𝑝2=23\n",
    "\n",
    "    (a) Sea 𝑛=100, ejecute el programa y determine la proporción de valores que sean iguales a 1.\n",
    "    (b) Repita (a) con 𝑛=1000.\n",
    "    (c) Repita (a) con 𝑛=10000.\n",
    "    \n",
    "'''\n",
    "\n"
   ]
  },
  {
   "cell_type": "code",
   "execution_count": null,
   "metadata": {},
   "outputs": [],
   "source": []
  }
 ],
 "metadata": {
  "kernelspec": {
   "display_name": "Python 3",
   "language": "python",
   "name": "python3"
  },
  "language_info": {
   "codemirror_mode": {
    "name": "ipython",
    "version": 3
   },
   "file_extension": ".py",
   "mimetype": "text/x-python",
   "name": "python",
   "nbconvert_exporter": "python",
   "pygments_lexer": "ipython3",
   "version": "3.5.3"
  }
 },
 "nbformat": 4,
 "nbformat_minor": 2
}
