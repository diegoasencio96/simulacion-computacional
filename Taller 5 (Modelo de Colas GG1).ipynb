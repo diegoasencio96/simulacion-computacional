{
 "cells": [
  {
   "cell_type": "code",
   "execution_count": 198,
   "metadata": {},
   "outputs": [],
   "source": [
    "'''\n",
    "Se importan librerias necesarias\n",
    "'''\n",
    "\n",
    "import random as r\n",
    "import numpy as np\n"
   ]
  },
  {
   "cell_type": "code",
   "execution_count": 199,
   "metadata": {},
   "outputs": [],
   "source": [
    "'''\n",
    "Se define la función de generacin de pseudoaleatorios por el método del congruencial mixto\n",
    "'''\n",
    "\n",
    "def congruent_mixed(x0, a, m, c, n): \n",
    "    result = []\n",
    "    for i in range(0, n):\n",
    "        xn = ((a * x0) + c) % m\n",
    "        result.append(xn / m)\n",
    "        x0 = xn\n",
    "    return result[0]"
   ]
  },
  {
   "cell_type": "code",
   "execution_count": 200,
   "metadata": {},
   "outputs": [],
   "source": [
    "'''\n",
    "Se define una función de distribución (Exponencial)\n",
    "'''\n",
    "\n",
    "def F(lamda):\n",
    "    u = r.random() # congruent_mixed(200, 22695477, 2**32, 1, 1)\n",
    "    x = (-1 / lamda) * np.log(u)\n",
    "    return x"
   ]
  },
  {
   "cell_type": "code",
   "execution_count": 201,
   "metadata": {},
   "outputs": [],
   "source": [
    "'''\n",
    "Se define la funcion de llegada del sistema\n",
    "'''\n",
    "\n",
    "def arrival(t_suc):\n",
    "    global t, n, NLL, LL, X, A, T, TLL, Y, B, TS, Serv\n",
    "    t = t_suc\n",
    "    n = (n + 1)\n",
    "    NLL = (NLL + 1)\n",
    "    LL.append(t)\n",
    "    X = F(A)\n",
    "    if (t + X) < T:\n",
    "        TLL = (t + X)\n",
    "    if n == 1:\n",
    "        Y = F(B)\n",
    "        TS = (t + Y)\n",
    "        Serv.append(Y)\n",
    "        "
   ]
  },
  {
   "cell_type": "code",
   "execution_count": 241,
   "metadata": {},
   "outputs": [],
   "source": [
    "'''\n",
    "Se define la función del servidor del sistema\n",
    "'''\n",
    "\n",
    "def server(t_suc):\n",
    "    global t, n, NS, S, Y, B, TS, Serv\n",
    "    t = t_suc\n",
    "    n = (n - 1)\n",
    "    NS = (NS + 1)\n",
    "    S.append(t)\n",
    "    if n > 0:\n",
    "        Y = F(B)\n",
    "        TS = (t + Y)\n",
    "        Serv.append(Y)"
   ]
  },
  {
   "cell_type": "code",
   "execution_count": 272,
   "metadata": {},
   "outputs": [],
   "source": [
    "'''\n",
    "Inicia la simulación del sistema de colas G/G/1\n",
    "'''\n",
    "\n",
    "M = np.inf\n",
    "T = int(1e2)\n",
    "t = t_suc = NLL = NS = n = 0\n",
    "TLL = TS = M\n",
    "\n",
    "LL = []\n",
    "S = []\n",
    "Serv = []\n",
    "\n",
    "X = 0\n",
    "Y = 0\n",
    "A = 0.2\n",
    "B = 0.6\n",
    "\n",
    "X = F(A)\n",
    "if X > T:\n",
    "    T_p = t_med_sistema = t_med_cola = 0\n",
    "else:\n",
    "    arrival(X)\n",
    "    while TLL != M or TS != M:\n",
    "        if TLL < TS:\n",
    "            t_suc = TLL\n",
    "            TLL = M\n",
    "            arrival(t_suc)\n",
    "        if TS < TLL:\n",
    "            t_suc = TS\n",
    "            TS = M\n",
    "            server(t_suc)\n",
    "\n",
    "    T_p = max(0, t - T)\n",
    "    accumulated1 = accumulated2 = 0\n",
    "    ind = 0\n",
    "\n",
    "    while ind < NLL:\n",
    "        accumulated1 += S[ind] - LL[ind]\n",
    "        accumulated2 += S[ind] - LL[ind] - Serv[ind]\n",
    "        ind += 1\n",
    "    t_med_sistema = (accumulated1 / NLL)\n",
    "    t_med_cola = (accumulated2 / NLL)"
   ]
  },
  {
   "cell_type": "code",
   "execution_count": 273,
   "metadata": {},
   "outputs": [
    {
     "name": "stdout",
     "output_type": "stream",
     "text": [
      "Clientes atendidos por el servidor: 20\n",
      "Tiempo medio del sistema: 1.5493359960951611\n",
      "Tiempo medio en la cola: 0.18580187219908767\n"
     ]
    }
   ],
   "source": [
    "print(\"Clientes atendidos por el servidor:\", NS)\n",
    "print(\"Tiempo medio del sistema:\", t_med_sistema)\n",
    "print(\"Tiempo medio en la cola:\", t_med_cola)\n"
   ]
  },
  {
   "cell_type": "code",
   "execution_count": null,
   "metadata": {},
   "outputs": [],
   "source": []
  },
  {
   "cell_type": "code",
   "execution_count": null,
   "metadata": {},
   "outputs": [],
   "source": []
  }
 ],
 "metadata": {
  "kernelspec": {
   "display_name": "Python 3",
   "language": "python",
   "name": "python3"
  },
  "language_info": {
   "codemirror_mode": {
    "name": "ipython",
    "version": 3
   },
   "file_extension": ".py",
   "mimetype": "text/x-python",
   "name": "python",
   "nbconvert_exporter": "python",
   "pygments_lexer": "ipython3",
   "version": "3.7.3"
  }
 },
 "nbformat": 4,
 "nbformat_minor": 2
}
