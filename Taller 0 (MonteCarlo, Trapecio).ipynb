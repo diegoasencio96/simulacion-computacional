{
 "cells": [
  {
   "cell_type": "code",
   "execution_count": 1,
   "metadata": {},
   "outputs": [],
   "source": [
    "'''\n",
    "Librerias a utilizar\n",
    "'''\n",
    "\n",
    "import math\n",
    "import random\n"
   ]
  },
  {
   "cell_type": "code",
   "execution_count": 2,
   "metadata": {},
   "outputs": [],
   "source": [
    "'''\n",
    "Integral por método de MonteCarlo\n",
    "'''\n",
    "\n",
    "def montecarlo_integrate():\n",
    "    suma = 0\n",
    "    x = 0\n",
    "    y = 0\n",
    "    n = 0\n",
    "    while n < 1000000:\n",
    "        x = 2 * random.random()\n",
    "        y = 2 * math.exp(-x * x)\n",
    "        suma = suma + y\n",
    "        n = n + 1\n",
    "    return (suma / n)"
   ]
  },
  {
   "cell_type": "code",
   "execution_count": 3,
   "metadata": {},
   "outputs": [],
   "source": [
    "'''\n",
    "Integral por método del Trapecio\n",
    "'''\n",
    "\n",
    "def trapecio_integrate():\n",
    "    paso = 0.1\n",
    "    x1 = 0\n",
    "    x2 = paso\n",
    "    suma = 0\n",
    "    tria = 0\n",
    "    while (x2 <= 2):\n",
    "        fx2 = math.exp(-x2 * x2)\n",
    "        tria = (math.exp(-x1 * x1) - fx2) * (paso/2)\n",
    "        suma = suma + tria + fx2 * paso\n",
    "        x1 = x2\n",
    "        x2 = x2 + paso\n",
    "    return (suma)"
   ]
  },
  {
   "cell_type": "code",
   "execution_count": 4,
   "metadata": {},
   "outputs": [
    {
     "name": "stdout",
     "output_type": "stream",
     "text": [
      "Resultado de Integral por MonteCarlo:  0.8813334453980783\n",
      "Resultado de Integral por Trapecio:  0.8797520661078067\n"
     ]
    }
   ],
   "source": [
    "'''\n",
    "Resultados de los ambos métodos\n",
    "'''\n",
    "\n",
    "montecarlo = montecarlo_integrate()\n",
    "trapecio = trapecio_integrate()\n",
    "\n",
    "print(\"Resultado de Integral por MonteCarlo: \", montecarlo)\n",
    "print(\"Resultado de Integral por Trapecio: \", trapecio)"
   ]
  },
  {
   "cell_type": "code",
   "execution_count": 5,
   "metadata": {},
   "outputs": [],
   "source": [
    "'''\n",
    "Comparación de resultados entre MonteCarlo y Trapecio\n",
    "'''\n",
    "\n",
    "def compare_methods(montecarlo, trapecio):\n",
    "    result = montecarlo - trapecio\n",
    "    return result if result >= 0 else (result*-1) "
   ]
  },
  {
   "cell_type": "code",
   "execution_count": 6,
   "metadata": {},
   "outputs": [
    {
     "name": "stdout",
     "output_type": "stream",
     "text": [
      "Resultado de comparación:  0.0015813792902716894\n"
     ]
    }
   ],
   "source": [
    "\n",
    "result = compare_methods(montecarlo, trapecio)\n",
    "\n",
    "print(\"Resultado de comparación: \", result)"
   ]
  },
  {
   "cell_type": "code",
   "execution_count": null,
   "metadata": {},
   "outputs": [],
   "source": []
  }
 ],
 "metadata": {
  "kernelspec": {
   "display_name": "Python 3",
   "language": "python",
   "name": "python3"
  },
  "language_info": {
   "codemirror_mode": {
    "name": "ipython",
    "version": 3
   },
   "file_extension": ".py",
   "mimetype": "text/x-python",
   "name": "python",
   "nbconvert_exporter": "python",
   "pygments_lexer": "ipython3",
   "version": "3.5.3"
  }
 },
 "nbformat": 4,
 "nbformat_minor": 2
}
