{
 "cells": [
  {
   "cell_type": "code",
   "execution_count": 1,
   "metadata": {},
   "outputs": [],
   "source": [
    "'''\n",
    "Librerias a utilizar\n",
    "'''\n",
    "\n",
    "import math\n",
    "import random"
   ]
  },
  {
   "cell_type": "code",
   "execution_count": 2,
   "metadata": {},
   "outputs": [],
   "source": [
    "'''\n",
    "Métodos generales\n",
    "'''\n",
    "\n",
    "def absolute_value(x):\n",
    "    return x if x >= 0 else -1*x\n",
    "\n",
    "def add_zeros(number):\n",
    "    return str(number).zfill(8)"
   ]
  },
  {
   "cell_type": "code",
   "execution_count": 48,
   "metadata": {
    "scrolled": false
   },
   "outputs": [],
   "source": [
    "'''\n",
    "Implementar el generador de números pseudoaleatorios con el método de MidSquare\n",
    "'''\n",
    "\n",
    "def mid_square():\n",
    "    x = random.randint(-9999, 9999)\n",
    "    x = absolute_value(x)\n",
    "    result = []\n",
    "    u = (x / 10000)\n",
    "    \n",
    "    while(u not in result):\n",
    "        result.append(u)\n",
    "        sqrt_x = x * x\n",
    "        sqrt_x = add_zeros(sqrt_x)\n",
    "        x = int(sqrt_x[2]+sqrt_x[3]+sqrt_x[4]+sqrt_x[5])\n",
    "        u = (x / 10000)\n",
    "    return result\n"
   ]
  },
  {
   "cell_type": "code",
   "execution_count": 49,
   "metadata": {
    "scrolled": true
   },
   "outputs": [
    {
     "data": {
      "text/plain": [
       "[0.0606,\n",
       " 0.3672,\n",
       " 0.4835,\n",
       " 0.3772,\n",
       " 0.2279,\n",
       " 0.1938,\n",
       " 0.7558,\n",
       " 0.1233,\n",
       " 0.5202,\n",
       " 0.0608,\n",
       " 0.3696,\n",
       " 0.6604,\n",
       " 0.6128,\n",
       " 0.5523,\n",
       " 0.5035,\n",
       " 0.3512,\n",
       " 0.3341,\n",
       " 0.1622,\n",
       " 0.6308,\n",
       " 0.7908,\n",
       " 0.5364,\n",
       " 0.7724,\n",
       " 0.6601,\n",
       " 0.5732,\n",
       " 0.8558,\n",
       " 0.2393,\n",
       " 0.7264,\n",
       " 0.7656,\n",
       " 0.6143,\n",
       " 0.7364,\n",
       " 0.2284,\n",
       " 0.2166,\n",
       " 0.6915,\n",
       " 0.8172,\n",
       " 0.7815,\n",
       " 0.0742,\n",
       " 0.5505,\n",
       " 0.305,\n",
       " 0.3025,\n",
       " 0.1506,\n",
       " 0.268,\n",
       " 0.1824,\n",
       " 0.3269,\n",
       " 0.6863,\n",
       " 0.1007,\n",
       " 0.014,\n",
       " 0.0196,\n",
       " 0.0384,\n",
       " 0.1474,\n",
       " 0.1726,\n",
       " 0.979,\n",
       " 0.8441,\n",
       " 0.2504,\n",
       " 0.27,\n",
       " 0.29,\n",
       " 0.41,\n",
       " 0.81,\n",
       " 0.61,\n",
       " 0.21]"
      ]
     },
     "execution_count": 49,
     "metadata": {},
     "output_type": "execute_result"
    }
   ],
   "source": [
    "'''\n",
    "Método MidSquare\n",
    "'''\n",
    "\n",
    "mid_square()"
   ]
  },
  {
   "cell_type": "code",
   "execution_count": 54,
   "metadata": {},
   "outputs": [],
   "source": [
    "'''\n",
    "Implementar el generador congruencial mixto\n",
    "'''\n",
    "\n",
    "x0 = 7\n",
    "a = 5\n",
    "m = 16\n",
    "c = 3\n",
    "\n",
    "def congruent_mixed(): \n",
    "    xn = ((a * x0) + c) % m\n",
    "    result = []\n",
    "    while(xn / m not in result):\n",
    "        result.append(xn / m)\n",
    "        xn = ((a * xn) + c) % m\n",
    "    return result\n"
   ]
  },
  {
   "cell_type": "code",
   "execution_count": 55,
   "metadata": {},
   "outputs": [
    {
     "data": {
      "text/plain": [
       "[0.375,\n",
       " 0.0625,\n",
       " 0.5,\n",
       " 0.6875,\n",
       " 0.625,\n",
       " 0.3125,\n",
       " 0.75,\n",
       " 0.9375,\n",
       " 0.875,\n",
       " 0.5625,\n",
       " 0.0,\n",
       " 0.1875,\n",
       " 0.125,\n",
       " 0.8125,\n",
       " 0.25,\n",
       " 0.4375]"
      ]
     },
     "execution_count": 55,
     "metadata": {},
     "output_type": "execute_result"
    }
   ],
   "source": [
    "'''\n",
    "Método CongruentMixed\n",
    "'''\n",
    "\n",
    "congruent_mixed()"
   ]
  },
  {
   "cell_type": "code",
   "execution_count": 56,
   "metadata": {},
   "outputs": [],
   "source": [
    "'''\n",
    "Implementar una función para calcular el ciclo de cualquier generador de números pseudoaleatorios.\n",
    "'''\n",
    "\n",
    "def calculate_cicle(arr_n_randoms):\n",
    "    T = 0\n",
    "    result = []\n",
    "    for n in arr_n_randoms:\n",
    "        if n not in result:\n",
    "            result.append(n)\n",
    "            T += 1\n",
    "    return T\n"
   ]
  },
  {
   "cell_type": "code",
   "execution_count": 62,
   "metadata": {},
   "outputs": [
    {
     "data": {
      "text/plain": [
       "16"
      ]
     },
     "execution_count": 62,
     "metadata": {},
     "output_type": "execute_result"
    }
   ],
   "source": [
    "'''\n",
    "Método CalculateCicle\n",
    "'''\n",
    "\n",
    "arr_test = congruent_mixed()\n",
    "calculate_cicle(arr_test)"
   ]
  },
  {
   "cell_type": "code",
   "execution_count": null,
   "metadata": {},
   "outputs": [],
   "source": []
  }
 ],
 "metadata": {
  "kernelspec": {
   "display_name": "Python 3",
   "language": "python",
   "name": "python3"
  },
  "language_info": {
   "codemirror_mode": {
    "name": "ipython",
    "version": 3
   },
   "file_extension": ".py",
   "mimetype": "text/x-python",
   "name": "python",
   "nbconvert_exporter": "python",
   "pygments_lexer": "ipython3",
   "version": "3.5.3"
  }
 },
 "nbformat": 4,
 "nbformat_minor": 2
}
