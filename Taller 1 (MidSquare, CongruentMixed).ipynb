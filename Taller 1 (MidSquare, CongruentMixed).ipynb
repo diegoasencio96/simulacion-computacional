{
 "cells": [
  {
   "cell_type": "code",
   "execution_count": 10,
   "metadata": {},
   "outputs": [],
   "source": [
    "'''\n",
    "Librerias a utilizar\n",
    "'''\n",
    "\n",
    "import math\n",
    "import random"
   ]
  },
  {
   "cell_type": "code",
   "execution_count": 11,
   "metadata": {},
   "outputs": [],
   "source": [
    "'''\n",
    "Métodos generales\n",
    "'''\n",
    "\n",
    "def absolute_value(x):\n",
    "    return x if x >= 0 else -1*x\n",
    "\n",
    "def add_zeros(number):\n",
    "    return str(number).zfill(8)"
   ]
  },
  {
   "cell_type": "code",
   "execution_count": 12,
   "metadata": {
    "scrolled": false
   },
   "outputs": [],
   "source": [
    "'''\n",
    "Implementar el generador de números pseudoaleatorios con el método de MidSquare\n",
    "'''\n",
    "\n",
    "def mid_square():\n",
    "    x = random.randint(-9999, 9999)\n",
    "    x = absolute_value(x)\n",
    "    result = []\n",
    "    u = (x / 10000)\n",
    "    \n",
    "    while(u not in result):\n",
    "        result.append(u)\n",
    "        sqrt_x = x * x\n",
    "        sqrt_x = add_zeros(sqrt_x)\n",
    "        x = int(sqrt_x[2]+sqrt_x[3]+sqrt_x[4]+sqrt_x[5])\n",
    "        u = (x / 10000)\n",
    "    return result\n"
   ]
  },
  {
   "cell_type": "code",
   "execution_count": 13,
   "metadata": {
    "scrolled": true
   },
   "outputs": [
    {
     "data": {
      "text/plain": [
       "[0.9845,\n",
       " 0.924,\n",
       " 0.3776,\n",
       " 0.2581,\n",
       " 0.6615,\n",
       " 0.7582,\n",
       " 0.4867,\n",
       " 0.6876,\n",
       " 0.2793,\n",
       " 0.8008,\n",
       " 0.128,\n",
       " 0.6384,\n",
       " 0.7554,\n",
       " 0.0629,\n",
       " 0.3956,\n",
       " 0.6499,\n",
       " 0.237,\n",
       " 0.6169,\n",
       " 0.0565,\n",
       " 0.3192,\n",
       " 0.1888,\n",
       " 0.5645,\n",
       " 0.866,\n",
       " 0.9956,\n",
       " 0.1219,\n",
       " 0.4859,\n",
       " 0.6098,\n",
       " 0.1856,\n",
       " 0.4447,\n",
       " 0.7758,\n",
       " 0.1865,\n",
       " 0.4782,\n",
       " 0.8675,\n",
       " 0.2556,\n",
       " 0.5331,\n",
       " 0.4195,\n",
       " 0.598,\n",
       " 0.7604,\n",
       " 0.8208,\n",
       " 0.3712,\n",
       " 0.7789,\n",
       " 0.6685,\n",
       " 0.6892,\n",
       " 0.4996,\n",
       " 0.96,\n",
       " 0.16,\n",
       " 0.56,\n",
       " 0.36]"
      ]
     },
     "execution_count": 13,
     "metadata": {},
     "output_type": "execute_result"
    }
   ],
   "source": [
    "'''\n",
    "Método MidSquare\n",
    "'''\n",
    "\n",
    "mid_square()"
   ]
  },
  {
   "cell_type": "code",
   "execution_count": 14,
   "metadata": {},
   "outputs": [],
   "source": [
    "'''\n",
    "Implementar el generador congruencial mixto\n",
    "'''\n",
    "\n",
    "x0 = 7\n",
    "a = 5\n",
    "m = 16\n",
    "c = 3\n",
    "\n",
    "def congruent_mixed(): \n",
    "    xn = ((a * x0) + c) % m\n",
    "    result = []\n",
    "    while(xn / m not in result):\n",
    "        result.append(xn / m)\n",
    "        xn = ((a * xn) + c) % m\n",
    "    return result\n"
   ]
  },
  {
   "cell_type": "code",
   "execution_count": 15,
   "metadata": {},
   "outputs": [
    {
     "data": {
      "text/plain": [
       "[0.375,\n",
       " 0.0625,\n",
       " 0.5,\n",
       " 0.6875,\n",
       " 0.625,\n",
       " 0.3125,\n",
       " 0.75,\n",
       " 0.9375,\n",
       " 0.875,\n",
       " 0.5625,\n",
       " 0.0,\n",
       " 0.1875,\n",
       " 0.125,\n",
       " 0.8125,\n",
       " 0.25,\n",
       " 0.4375]"
      ]
     },
     "execution_count": 15,
     "metadata": {},
     "output_type": "execute_result"
    }
   ],
   "source": [
    "'''\n",
    "Método CongruentMixed\n",
    "'''\n",
    "\n",
    "congruent_mixed()"
   ]
  },
  {
   "cell_type": "code",
   "execution_count": 16,
   "metadata": {},
   "outputs": [],
   "source": [
    "'''\n",
    "Implementar una función para calcular el ciclo de cualquier generador de números pseudoaleatorios.\n",
    "'''\n",
    "\n",
    "def calculate_cicle(arr_n_randoms):\n",
    "    T = 0\n",
    "    result = []\n",
    "    for n in arr_n_randoms:\n",
    "        if n not in result:\n",
    "            result.append(n)\n",
    "            T += 1\n",
    "    return T\n"
   ]
  },
  {
   "cell_type": "code",
   "execution_count": 23,
   "metadata": {},
   "outputs": [
    {
     "name": "stdout",
     "output_type": "stream",
     "text": [
      "Periodo para MidSquare:  55\n",
      "Periodo para CongruentMixed:  16\n"
     ]
    }
   ],
   "source": [
    "'''\n",
    "Método CalculateCicle\n",
    "'''\n",
    "\n",
    "arr_test1 = mid_square()\n",
    "print('Periodo para MidSquare: ', calculate_cicle(arr_test1))\n",
    "\n",
    "arr_test2 = congruent_mixed()\n",
    "print('Periodo para CongruentMixed: ', calculate_cicle(arr_test2))"
   ]
  },
  {
   "cell_type": "code",
   "execution_count": null,
   "metadata": {},
   "outputs": [],
   "source": []
  },
  {
   "cell_type": "code",
   "execution_count": null,
   "metadata": {},
   "outputs": [],
   "source": []
  }
 ],
 "metadata": {
  "kernelspec": {
   "display_name": "Python 3",
   "language": "python",
   "name": "python3"
  },
  "language_info": {
   "codemirror_mode": {
    "name": "ipython",
    "version": 3
   },
   "file_extension": ".py",
   "mimetype": "text/x-python",
   "name": "python",
   "nbconvert_exporter": "python",
   "pygments_lexer": "ipython3",
   "version": "3.5.3"
  }
 },
 "nbformat": 4,
 "nbformat_minor": 2
}
