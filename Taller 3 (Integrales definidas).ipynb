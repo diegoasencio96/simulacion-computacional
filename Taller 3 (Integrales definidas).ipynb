{
 "cells": [
  {
   "cell_type": "code",
   "execution_count": 15,
   "metadata": {},
   "outputs": [],
   "source": [
    "'''\n",
    "Se importan las librerias necesarias\n",
    "'''\n",
    "\n",
    "from random import random\n",
    "import math as m\n"
   ]
  },
  {
   "cell_type": "code",
   "execution_count": 16,
   "metadata": {},
   "outputs": [],
   "source": [
    "'''\n",
    "Se definen los métodos base generales\n",
    "'''\n",
    "\n",
    "def f(x):\n",
    "    return m.pow(m.e, -1*(x*x))"
   ]
  },
  {
   "cell_type": "code",
   "execution_count": 17,
   "metadata": {},
   "outputs": [
    {
     "name": "stdout",
     "output_type": "stream",
     "text": [
      "Resultado de la integral definida  e^-(x^2) de [a, b]:  0.7499349776126896\n"
     ]
    }
   ],
   "source": [
    "'''\n",
    "Evaluar integral definida [a, b]\n",
    "'''\n",
    "\n",
    "def montecarlo_integrate_a_b(a , b , n):\n",
    "    value = 0.0\n",
    "    for i in range(n):\n",
    "        u = random()\n",
    "        x = a + (b - a) * u\n",
    "        value += (b-a) * f(x)\n",
    "    return value/n\n",
    "\n",
    "area = montecarlo_integrate_a_b(0, 1, 10000)\n",
    "print('Resultado de la integral definida  e^-(x^2) de [a, b]: ', area)\n"
   ]
  },
  {
   "cell_type": "code",
   "execution_count": 18,
   "metadata": {},
   "outputs": [
    {
     "name": "stdout",
     "output_type": "stream",
     "text": [
      "Resultado de la integral definida  e^-(x^2) de [0, inf]:  0.8835197252069132\n"
     ]
    }
   ],
   "source": [
    "'''\n",
    "Evaluar integral definida [0, inf]\n",
    "'''\n",
    "\n",
    "def montecarlo_integrate_0_inf(n):\n",
    "    value = 0\n",
    "    for i in range(n):\n",
    "        u = random()\n",
    "        x = 1 / u - 1\n",
    "        value += (1 / u ** 2) * f(x)\n",
    "    return value / n\n",
    "\n",
    "area = montecarlo_integrate_0_inf(10000)\n",
    "print('Resultado de la integral definida  e^-(x^2) de [0, inf]: ', area)"
   ]
  },
  {
   "cell_type": "code",
   "execution_count": 19,
   "metadata": {},
   "outputs": [
    {
     "name": "stdout",
     "output_type": "stream",
     "text": [
      "Resultado de la estimación del número PI :  3.1368896860437965\n"
     ]
    }
   ],
   "source": [
    "'''\n",
    "Estimación de PI\n",
    "'''\n",
    "\n",
    "\n",
    "def aproximate_pi(n):\n",
    "    value = 0\n",
    "    for i in range(n):\n",
    "        x = 2 * random() - 1\n",
    "        y = 2 * random() - 1\n",
    "        if x ** 2 + y ** 2 <= 1:\n",
    "            value += x ** 2 + y ** 2\n",
    "    return 4 * 2 * (value / n)\n",
    "\n",
    "area = aproximate_pi(10000)\n",
    "print('Resultado de la estimación del número PI : ', area)"
   ]
  },
  {
   "cell_type": "code",
   "execution_count": null,
   "metadata": {},
   "outputs": [],
   "source": []
  },
  {
   "cell_type": "code",
   "execution_count": null,
   "metadata": {},
   "outputs": [],
   "source": []
  }
 ],
 "metadata": {
  "kernelspec": {
   "display_name": "Python 3",
   "language": "python",
   "name": "python3"
  },
  "language_info": {
   "codemirror_mode": {
    "name": "ipython",
    "version": 3
   },
   "file_extension": ".py",
   "mimetype": "text/x-python",
   "name": "python",
   "nbconvert_exporter": "python",
   "pygments_lexer": "ipython3",
   "version": "3.7.3"
  }
 },
 "nbformat": 4,
 "nbformat_minor": 2
}
